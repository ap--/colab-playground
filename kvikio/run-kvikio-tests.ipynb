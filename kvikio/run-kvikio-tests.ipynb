{
  "nbformat": 4,
  "nbformat_minor": 0,
  "metadata": {
    "colab": {
      "provenance": [],
      "gpuType": "T4",
      "authorship_tag": "ABX9TyN99zuPTxJRWZEWrdK2pp7g",
      "include_colab_link": true
    },
    "kernelspec": {
      "name": "python3",
      "display_name": "Python 3"
    },
    "language_info": {
      "name": "python"
    },
    "accelerator": "GPU"
  },
  "cells": [
    {
      "cell_type": "markdown",
      "metadata": {
        "id": "view-in-github",
        "colab_type": "text"
      },
      "source": [
        "<a href=\"https://colab.research.google.com/github/ap--/colab-playground/blob/main/kvikio/run-kvikio-tests.ipynb\" target=\"_parent\"><img src=\"https://colab.research.google.com/assets/colab-badge.svg\" alt=\"Open In Colab\"/></a>"
      ]
    },
    {
      "cell_type": "markdown",
      "source": [
        "# Notebook for installing and testing the add-deflate kvikio branch"
      ],
      "metadata": {
        "id": "SMHzMbgKujlL"
      }
    },
    {
      "cell_type": "code",
      "execution_count": 1,
      "metadata": {
        "colab": {
          "base_uri": "https://localhost:8080/"
        },
        "id": "umuotOoc-DWi",
        "outputId": "74211803-21df-4c33-a8d2-0ddbe67c0cad"
      },
      "outputs": [
        {
          "output_type": "stream",
          "name": "stdout",
          "text": [
            "⏬ Downloading https://github.com/conda-forge/miniforge/releases/download/23.1.0-1/Mambaforge-23.1.0-1-Linux-x86_64.sh...\n",
            "📦 Installing...\n",
            "📌 Adjusting configuration...\n",
            "🩹 Patching environment...\n",
            "⏲ Done in 0:00:12\n",
            "🔁 Restarting kernel...\n"
          ]
        }
      ],
      "source": [
        "!pip install -q condacolab\n",
        "import condacolab\n",
        "condacolab.install()"
      ]
    },
    {
      "cell_type": "code",
      "source": [
        "import condacolab\n",
        "condacolab.check()"
      ],
      "metadata": {
        "colab": {
          "base_uri": "https://localhost:8080/"
        },
        "id": "e402-16xzD3F",
        "outputId": "8410bf65-37b8-426e-ddc5-d8cc4e190f31"
      },
      "execution_count": 1,
      "outputs": [
        {
          "output_type": "stream",
          "name": "stdout",
          "text": [
            "✨🍰✨ Everything looks OK!\n"
          ]
        }
      ]
    },
    {
      "cell_type": "code",
      "source": [
        "!git clone https://git@github.com/ap--/kvikio.git\n",
        "!cd kvikio && git checkout add-deflate-rebased"
      ],
      "metadata": {
        "colab": {
          "base_uri": "https://localhost:8080/"
        },
        "id": "9r92-eShuv5s",
        "outputId": "28284cca-45c3-40ba-975d-84492086e7b2"
      },
      "execution_count": 2,
      "outputs": [
        {
          "output_type": "stream",
          "name": "stdout",
          "text": [
            "Cloning into 'kvikio'...\n",
            "remote: Enumerating objects: 2422, done.\u001b[K\n",
            "remote: Counting objects: 100% (531/531), done.\u001b[K\n",
            "remote: Compressing objects: 100% (138/138), done.\u001b[K\n",
            "remote: Total 2422 (delta 417), reused 447 (delta 392), pack-reused 1891\u001b[K\n",
            "Receiving objects: 100% (2422/2422), 833.98 KiB | 15.44 MiB/s, done.\n",
            "Resolving deltas: 100% (1472/1472), done.\n",
            "Branch 'add-deflate-rebased' set up to track remote branch 'add-deflate-rebased' from 'origin'.\n",
            "Switched to a new branch 'add-deflate-rebased'\n"
          ]
        }
      ]
    },
    {
      "cell_type": "code",
      "source": [
        "!mamba env update --name base --file kvikio/conda/environments/all_cuda-120_arch-x86_64.yaml --quiet"
      ],
      "metadata": {
        "colab": {
          "base_uri": "https://localhost:8080/"
        },
        "id": "0ArzwQsvvHyg",
        "outputId": "e8f47905-7243-42fc-a3eb-f89bd6dd83b5"
      },
      "execution_count": 4,
      "outputs": [
        {
          "output_type": "stream",
          "name": "stdout",
          "text": [
            "\n",
            "  Pinned packages:\n",
            "\n",
            "  - python 3.10.*\n",
            "  - python_abi 3.10.* *cp310*\n",
            "  - cudatoolkit 11.8.*\n",
            "\n",
            "\n",
            "Preparing transaction: ...working... done\n",
            "Verifying transaction: ...working... done\n",
            "Executing transaction: ...working... done\n"
          ]
        }
      ]
    },
    {
      "cell_type": "code",
      "source": [
        "!cd kvikio && ./build.sh kvikio\n"
      ],
      "metadata": {
        "colab": {
          "base_uri": "https://localhost:8080/"
        },
        "id": "pLqI79DJwA6H",
        "outputId": "83ecba99-e41a-437d-d979-ee63ac74d209"
      },
      "execution_count": 8,
      "outputs": [
        {
          "output_type": "stream",
          "name": "stdout",
          "text": [
            "building kvikio...\n",
            "/usr/local/lib/python3.10/site-packages/setuptools/config/expand.py:144: UserWarning: File '/content/kvikio/python/README.md' cannot be found\n",
            "  warnings.warn(f\"File {path!r} cannot be found\")\n",
            "\n",
            "\n",
            "--------------------------------------------------------------------------------\n",
            "-- Trying 'Ninja' generator\n",
            "--------------------------------\n",
            "---------------------------\n",
            "----------------------\n",
            "-----------------\n",
            "------------\n",
            "-------\n",
            "--\n",
            "Not searching for unused variables given on the command line.\n",
            "-- The C compiler identification is GNU 11.4.0\n",
            "-- Detecting C compiler ABI info\n",
            "-- Detecting C compiler ABI info - done\n",
            "-- Check for working C compiler: /usr/local/bin/cc - skipped\n",
            "-- Detecting C compile features\n",
            "-- Detecting C compile features - done\n",
            "-- The CXX compiler identification is GNU 11.4.0\n",
            "-- Detecting CXX compiler ABI info\n",
            "-- Detecting CXX compiler ABI info - done\n",
            "-- Check for working CXX compiler: /usr/local/bin/c++ - skipped\n",
            "-- Detecting CXX compile features\n",
            "-- Detecting CXX compile features - done\n",
            "-- Configuring done (1.2s)\n",
            "-- Generating done (0.0s)\n",
            "-- Build files have been written to: /content/kvikio/python/_cmake_test_compile/build\n",
            "--\n",
            "-------\n",
            "------------\n",
            "-----------------\n",
            "----------------------\n",
            "---------------------------\n",
            "--------------------------------\n",
            "-- Trying 'Ninja' generator - success\n",
            "--------------------------------------------------------------------------------\n",
            "\n",
            "Configuring Project\n",
            "  Working directory:\n",
            "    /content/kvikio/python/_skbuild/linux-x86_64-3.10/cmake-build\n",
            "  Command:\n",
            "    /usr/local/bin/cmake /content/kvikio/python -G Ninja --no-warn-unused-cli -DCMAKE_INSTALL_PREFIX:PATH=/content/kvikio/python/_skbuild/linux-x86_64-3.10/cmake-install -DPYTHON_VERSION_STRING:STRING=3.10.12 -DSKBUILD:INTERNAL=TRUE -DCMAKE_MODULE_PATH:PATH=/usr/local/lib/python3.10/site-packages/skbuild/resources/cmake -DPYTHON_EXECUTABLE:PATH=/usr/local/bin/python -DPYTHON_INCLUDE_DIR:PATH=/usr/local/include/python3.10 -DPYTHON_LIBRARY:PATH=/usr/local/lib/libpython3.10.so -DPython_EXECUTABLE:PATH=/usr/local/bin/python -DPython_ROOT_DIR:PATH=/usr/local -DPython_FIND_REGISTRY:STRING=NEVER -DPython_INCLUDE_DIR:PATH=/usr/local/include/python3.10 -DPython_NumPy_INCLUDE_DIRS:PATH=/usr/local/lib/python3.10/site-packages/numpy/core/include -DPython3_EXECUTABLE:PATH=/usr/local/bin/python -DPython3_ROOT_DIR:PATH=/usr/local -DPython3_FIND_REGISTRY:STRING=NEVER -DPython3_INCLUDE_DIR:PATH=/usr/local/include/python3.10 -DPython3_NumPy_INCLUDE_DIRS:PATH=/usr/local/lib/python3.10/site-packages/numpy/core/include -DCMAKE_BUILD_TYPE:STRING=Release\n",
            "\n",
            "Not searching for unused variables given on the command line.\n",
            "-- The C compiler identification is GNU 11.4.0\n",
            "-- The CXX compiler identification is GNU 11.4.0\n",
            "-- The CUDA compiler identification is NVIDIA 12.0.76\n",
            "-- Detecting C compiler ABI info\n",
            "-- Detecting C compiler ABI info - done\n",
            "-- Check for working C compiler: /usr/local/bin/cc - skipped\n",
            "-- Detecting C compile features\n",
            "-- Detecting C compile features - done\n",
            "-- Detecting CXX compiler ABI info\n",
            "-- Detecting CXX compiler ABI info - done\n",
            "-- Check for working CXX compiler: /usr/local/bin/c++ - skipped\n",
            "-- Detecting CXX compile features\n",
            "-- Detecting CXX compile features - done\n",
            "-- Detecting CUDA compiler ABI info\n",
            "-- Detecting CUDA compiler ABI info - done\n",
            "-- Check for working CUDA compiler: /usr/local/bin/nvcc - skipped\n",
            "-- Detecting CUDA compile features\n",
            "-- Detecting CUDA compile features - done\n",
            "-- Found PythonInterp: /usr/local/bin/python (found version \"3.10.12\") \n",
            "-- Found PythonLibs: /usr/local/lib/libpython3.10.so (found version \"3.10.12\") \n",
            "-- Found Cython: /usr/local/bin/cython  \n",
            "-- Performing Test CMAKE_HAVE_LIBC_PTHREAD\n",
            "-- Performing Test CMAKE_HAVE_LIBC_PTHREAD - Failed\n",
            "-- Looking for pthread_create in pthreads\n",
            "-- Looking for pthread_create in pthreads - not found\n",
            "-- Looking for pthread_create in pthread\n",
            "-- Looking for pthread_create in pthread - found\n",
            "-- Found Threads: TRUE  \n",
            "-- Found cuFile: /usr/local/targets/x86_64-linux/lib/libcufile.so  \n",
            "-- Unable to find cublas_v2.h in either \"/usr/local/targets/x86_64-linux/include\" or \"/usr/local/math_libs/include\"\n",
            "-- Found CUDAToolkit: /usr/local/targets/x86_64-linux/include (found version \"12.0.76\") \n",
            "-- Unable to find cublas_v2.h in either \"/usr/local/targets/x86_64-linux/include\" or \"/usr/local/math_libs/include\"\n",
            "-- Found cuFile's Batch API: TRUE\n",
            "-- Unable to find cublas_v2.h in either \"/usr/local/targets/x86_64-linux/include\" or \"/usr/local/math_libs/include\"\n",
            "-- Found nvcomp: /usr/local/lib/cmake/nvcomp (found version 2.6.1)\n",
            "-- Performing Test Weak Link MODULE -> SHARED (gnu_ld_ignore) - Success\n",
            "\u001b[0m_modinit_prefix:PyInit_\u001b[0m\n",
            "\u001b[0m_modinit_prefix:PyInit_\u001b[0m\n",
            "\u001b[0m_modinit_prefix:PyInit_\u001b[0m\n",
            "\u001b[0m_modinit_prefix:PyInit_\u001b[0m\n",
            "-- Configuring done (8.0s)\n",
            "-- Generating done (0.0s)\n",
            "-- Build files have been written to: /content/kvikio/python/_skbuild/linux-x86_64-3.10/cmake-build\n",
            "[14/15] Install the project...\u001b[K\n",
            "-- Install configuration: \"Release\"\n",
            "-- Installing: /content/kvikio/python/_skbuild/linux-x86_64-3.10/cmake-install/include/kvikio\n",
            "-- Installing: /content/kvikio/python/_skbuild/linux-x86_64-3.10/cmake-install/include/kvikio/parallel_operation.hpp\n",
            "-- Installing: /content/kvikio/python/_skbuild/linux-x86_64-3.10/cmake-install/include/kvikio/posix_io.hpp\n",
            "-- Installing: /content/kvikio/python/_skbuild/linux-x86_64-3.10/cmake-install/include/kvikio/driver.hpp\n",
            "-- Installing: /content/kvikio/python/_skbuild/linux-x86_64-3.10/cmake-install/include/kvikio/error.hpp\n",
            "-- Installing: /content/kvikio/python/_skbuild/linux-x86_64-3.10/cmake-install/include/kvikio/defaults.hpp\n",
            "-- Installing: /content/kvikio/python/_skbuild/linux-x86_64-3.10/cmake-install/include/kvikio/shim\n",
            "-- Installing: /content/kvikio/python/_skbuild/linux-x86_64-3.10/cmake-install/include/kvikio/shim/cuda.hpp\n",
            "-- Installing: /content/kvikio/python/_skbuild/linux-x86_64-3.10/cmake-install/include/kvikio/shim/cufile_h_wrapper.hpp\n",
            "-- Installing: /content/kvikio/python/_skbuild/linux-x86_64-3.10/cmake-install/include/kvikio/shim/utils.hpp\n",
            "-- Installing: /content/kvikio/python/_skbuild/linux-x86_64-3.10/cmake-install/include/kvikio/shim/cufile.hpp\n",
            "-- Installing: /content/kvikio/python/_skbuild/linux-x86_64-3.10/cmake-install/include/kvikio/thread_pool.hpp\n",
            "-- Installing: /content/kvikio/python/_skbuild/linux-x86_64-3.10/cmake-install/include/kvikio/utils.hpp\n",
            "-- Installing: /content/kvikio/python/_skbuild/linux-x86_64-3.10/cmake-install/include/kvikio/file_handle.hpp\n",
            "-- Installing: /content/kvikio/python/_skbuild/linux-x86_64-3.10/cmake-install/include/kvikio/buffer.hpp\n",
            "-- Installing: /content/kvikio/python/_skbuild/linux-x86_64-3.10/cmake-install/include/kvikio/batch.hpp\n",
            "-- Installing: /content/kvikio/python/_skbuild/linux-x86_64-3.10/cmake-install/include/kvikio/version_config.hpp\n",
            "-- Installing: /content/kvikio/python/_skbuild/linux-x86_64-3.10/cmake-install/lib/cmake/kvikio/kvikio-targets.cmake\n",
            "-- Up-to-date: /content/kvikio/python/_skbuild/linux-x86_64-3.10/cmake-install/lib/cmake/kvikio\n",
            "-- Installing: /content/kvikio/python/_skbuild/linux-x86_64-3.10/cmake-install/lib/cmake/kvikio/kvikio-dependencies.cmake\n",
            "-- Installing: /content/kvikio/python/_skbuild/linux-x86_64-3.10/cmake-install/lib/cmake/kvikio/kvikio-config-version.cmake\n",
            "-- Installing: /content/kvikio/python/_skbuild/linux-x86_64-3.10/cmake-install/lib/cmake/kvikio/kvikio-config.cmake\n",
            "-- Installing: /content/kvikio/python/_skbuild/linux-x86_64-3.10/cmake-install/lib/cmake/kvikio/FindcuFile.cmake\n",
            "-- Installing: /content/kvikio/python/_skbuild/linux-x86_64-3.10/cmake-install/kvikio/_lib/arr.cpython-310-x86_64-linux-gnu.so\n",
            "-- Set runtime path of \"/content/kvikio/python/_skbuild/linux-x86_64-3.10/cmake-install/kvikio/_lib/arr.cpython-310-x86_64-linux-gnu.so\" to \"\"\n",
            "-- Installing: /content/kvikio/python/_skbuild/linux-x86_64-3.10/cmake-install/kvikio/_lib/libnvcomp.cpython-310-x86_64-linux-gnu.so\n",
            "-- Set runtime path of \"/content/kvikio/python/_skbuild/linux-x86_64-3.10/cmake-install/kvikio/_lib/libnvcomp.cpython-310-x86_64-linux-gnu.so\" to \"\"\n",
            "-- Installing: /content/kvikio/python/_skbuild/linux-x86_64-3.10/cmake-install/kvikio/_lib/libnvcomp_ll.cpython-310-x86_64-linux-gnu.so\n",
            "-- Set runtime path of \"/content/kvikio/python/_skbuild/linux-x86_64-3.10/cmake-install/kvikio/_lib/libnvcomp_ll.cpython-310-x86_64-linux-gnu.so\" to \"\"\n",
            "-- Installing: /content/kvikio/python/_skbuild/linux-x86_64-3.10/cmake-install/kvikio/_lib/libkvikio.cpython-310-x86_64-linux-gnu.so\n",
            "-- Set runtime path of \"/content/kvikio/python/_skbuild/linux-x86_64-3.10/cmake-install/kvikio/_lib/libkvikio.cpython-310-x86_64-linux-gnu.so\" to \"\"\n",
            "copying _skbuild/linux-x86_64-3.10/cmake-install/kvikio/_lib/arr.cpython-310-x86_64-linux-gnu.so -> kvikio/_lib/arr.cpython-310-x86_64-linux-gnu.so\n",
            "copying _skbuild/linux-x86_64-3.10/cmake-install/kvikio/_lib/libnvcomp.cpython-310-x86_64-linux-gnu.so -> kvikio/_lib/libnvcomp.cpython-310-x86_64-linux-gnu.so\n",
            "copying _skbuild/linux-x86_64-3.10/cmake-install/kvikio/_lib/libnvcomp_ll.cpython-310-x86_64-linux-gnu.so -> kvikio/_lib/libnvcomp_ll.cpython-310-x86_64-linux-gnu.so\n",
            "copying _skbuild/linux-x86_64-3.10/cmake-install/kvikio/_lib/libkvikio.cpython-310-x86_64-linux-gnu.so -> kvikio/_lib/libkvikio.cpython-310-x86_64-linux-gnu.so\n",
            "\n",
            "/usr/local/lib/python3.10/site-packages/setuptools/config/expand.py:144: UserWarning: File '/content/kvikio/python/README.md' cannot be found\n",
            "  warnings.warn(f\"File {path!r} cannot be found\")\n",
            "running build_ext\n",
            "/usr/local/lib/python3.10/site-packages/setuptools/config/expand.py:144: UserWarning: File '/content/kvikio/python/README.md' cannot be found\n",
            "  warnings.warn(f\"File {path!r} cannot be found\")\n",
            "/usr/local/lib/python3.10/site-packages/setuptools/command/install.py:34: SetuptoolsDeprecationWarning: setup.py install is deprecated. Use build and pip and other standards-based tools.\n",
            "  warnings.warn(\n",
            "[0/1] Install the project...\u001b[K\n",
            "-- Install configuration: \"Release\"\n",
            "-- Up-to-date: /content/kvikio/python/_skbuild/linux-x86_64-3.10/cmake-install/include/kvikio\n",
            "-- Up-to-date: /content/kvikio/python/_skbuild/linux-x86_64-3.10/cmake-install/include/kvikio/parallel_operation.hpp\n",
            "-- Up-to-date: /content/kvikio/python/_skbuild/linux-x86_64-3.10/cmake-install/include/kvikio/posix_io.hpp\n",
            "-- Up-to-date: /content/kvikio/python/_skbuild/linux-x86_64-3.10/cmake-install/include/kvikio/driver.hpp\n",
            "-- Up-to-date: /content/kvikio/python/_skbuild/linux-x86_64-3.10/cmake-install/include/kvikio/error.hpp\n",
            "-- Up-to-date: /content/kvikio/python/_skbuild/linux-x86_64-3.10/cmake-install/include/kvikio/defaults.hpp\n",
            "-- Up-to-date: /content/kvikio/python/_skbuild/linux-x86_64-3.10/cmake-install/include/kvikio/shim\n",
            "-- Up-to-date: /content/kvikio/python/_skbuild/linux-x86_64-3.10/cmake-install/include/kvikio/shim/cuda.hpp\n",
            "-- Up-to-date: /content/kvikio/python/_skbuild/linux-x86_64-3.10/cmake-install/include/kvikio/shim/cufile_h_wrapper.hpp\n",
            "-- Up-to-date: /content/kvikio/python/_skbuild/linux-x86_64-3.10/cmake-install/include/kvikio/shim/utils.hpp\n",
            "-- Up-to-date: /content/kvikio/python/_skbuild/linux-x86_64-3.10/cmake-install/include/kvikio/shim/cufile.hpp\n",
            "-- Up-to-date: /content/kvikio/python/_skbuild/linux-x86_64-3.10/cmake-install/include/kvikio/thread_pool.hpp\n",
            "-- Up-to-date: /content/kvikio/python/_skbuild/linux-x86_64-3.10/cmake-install/include/kvikio/utils.hpp\n",
            "-- Up-to-date: /content/kvikio/python/_skbuild/linux-x86_64-3.10/cmake-install/include/kvikio/file_handle.hpp\n",
            "-- Up-to-date: /content/kvikio/python/_skbuild/linux-x86_64-3.10/cmake-install/include/kvikio/buffer.hpp\n",
            "-- Up-to-date: /content/kvikio/python/_skbuild/linux-x86_64-3.10/cmake-install/include/kvikio/batch.hpp\n",
            "-- Up-to-date: /content/kvikio/python/_skbuild/linux-x86_64-3.10/cmake-install/include/kvikio/version_config.hpp\n",
            "-- Up-to-date: /content/kvikio/python/_skbuild/linux-x86_64-3.10/cmake-install/lib/cmake/kvikio/kvikio-targets.cmake\n",
            "-- Up-to-date: /content/kvikio/python/_skbuild/linux-x86_64-3.10/cmake-install/lib/cmake/kvikio\n",
            "-- Up-to-date: /content/kvikio/python/_skbuild/linux-x86_64-3.10/cmake-install/lib/cmake/kvikio/kvikio-dependencies.cmake\n",
            "-- Up-to-date: /content/kvikio/python/_skbuild/linux-x86_64-3.10/cmake-install/lib/cmake/kvikio/kvikio-config-version.cmake\n",
            "-- Up-to-date: /content/kvikio/python/_skbuild/linux-x86_64-3.10/cmake-install/lib/cmake/kvikio/kvikio-config.cmake\n",
            "-- Up-to-date: /content/kvikio/python/_skbuild/linux-x86_64-3.10/cmake-install/lib/cmake/kvikio/FindcuFile.cmake\n",
            "-- Installing: /content/kvikio/python/_skbuild/linux-x86_64-3.10/cmake-install/kvikio/_lib/arr.cpython-310-x86_64-linux-gnu.so\n",
            "-- Set runtime path of \"/content/kvikio/python/_skbuild/linux-x86_64-3.10/cmake-install/kvikio/_lib/arr.cpython-310-x86_64-linux-gnu.so\" to \"\"\n",
            "-- Installing: /content/kvikio/python/_skbuild/linux-x86_64-3.10/cmake-install/kvikio/_lib/libnvcomp.cpython-310-x86_64-linux-gnu.so\n",
            "-- Set runtime path of \"/content/kvikio/python/_skbuild/linux-x86_64-3.10/cmake-install/kvikio/_lib/libnvcomp.cpython-310-x86_64-linux-gnu.so\" to \"\"\n",
            "-- Installing: /content/kvikio/python/_skbuild/linux-x86_64-3.10/cmake-install/kvikio/_lib/libnvcomp_ll.cpython-310-x86_64-linux-gnu.so\n",
            "-- Set runtime path of \"/content/kvikio/python/_skbuild/linux-x86_64-3.10/cmake-install/kvikio/_lib/libnvcomp_ll.cpython-310-x86_64-linux-gnu.so\" to \"\"\n",
            "-- Installing: /content/kvikio/python/_skbuild/linux-x86_64-3.10/cmake-install/kvikio/_lib/libkvikio.cpython-310-x86_64-linux-gnu.so\n",
            "-- Set runtime path of \"/content/kvikio/python/_skbuild/linux-x86_64-3.10/cmake-install/kvikio/_lib/libkvikio.cpython-310-x86_64-linux-gnu.so\" to \"\"\n",
            "\n",
            "copying kvikio/zarr.py -> _skbuild/linux-x86_64-3.10/cmake-install/kvikio/zarr.py\n",
            "copying kvikio/thread_pool.py -> _skbuild/linux-x86_64-3.10/cmake-install/kvikio/thread_pool.py\n",
            "copying kvikio/__init__.py -> _skbuild/linux-x86_64-3.10/cmake-install/kvikio/__init__.py\n",
            "copying kvikio/nvcomp.py -> _skbuild/linux-x86_64-3.10/cmake-install/kvikio/nvcomp.py\n",
            "copying kvikio/numpy.py -> _skbuild/linux-x86_64-3.10/cmake-install/kvikio/numpy.py\n",
            "copying kvikio/cufile.py -> _skbuild/linux-x86_64-3.10/cmake-install/kvikio/cufile.py\n",
            "copying kvikio/defaults.py -> _skbuild/linux-x86_64-3.10/cmake-install/kvikio/defaults.py\n",
            "copying kvikio/nvcomp_codec.py -> _skbuild/linux-x86_64-3.10/cmake-install/kvikio/nvcomp_codec.py\n",
            "copying kvikio/_lib/__init__.py -> _skbuild/linux-x86_64-3.10/cmake-install/kvikio/_lib/__init__.py\n",
            "copying /content/kvikio/python/kvikio/_lib/arr.pyi -> _skbuild/linux-x86_64-3.10/cmake-install/kvikio/_lib/arr.pyi\n",
            "copying /content/kvikio/python/kvikio/_lib/kvikio_cxx_api.pxd -> _skbuild/linux-x86_64-3.10/cmake-install/kvikio/_lib/kvikio_cxx_api.pxd\n",
            "copying /content/kvikio/python/kvikio/_lib/arr.pxd -> _skbuild/linux-x86_64-3.10/cmake-install/kvikio/_lib/arr.pxd\n",
            "copying /content/kvikio/python/kvikio/_lib/__init__.pxd -> _skbuild/linux-x86_64-3.10/cmake-install/kvikio/_lib/__init__.pxd\n",
            "copying /content/kvikio/python/kvikio/_lib/nvcomp_ll_cxx_api.pxd -> _skbuild/linux-x86_64-3.10/cmake-install/kvikio/_lib/nvcomp_ll_cxx_api.pxd\n",
            "copying /content/kvikio/python/kvikio/_lib/nvcomp_cxx_api.pxd -> _skbuild/linux-x86_64-3.10/cmake-install/kvikio/_lib/nvcomp_cxx_api.pxd\n",
            "\n",
            "/usr/local/lib/python3.10/site-packages/setuptools/config/expand.py:144: UserWarning: File '/content/kvikio/python/README.md' cannot be found\n",
            "  warnings.warn(f\"File {path!r} cannot be found\")\n",
            "running install\n",
            "running build\n",
            "running build_py\n",
            "creating _skbuild/linux-x86_64-3.10/setuptools/lib.linux-x86_64-cpython-310\n",
            "creating _skbuild/linux-x86_64-3.10/setuptools/lib.linux-x86_64-cpython-310/kvikio\n",
            "copying _skbuild/linux-x86_64-3.10/cmake-install/kvikio/zarr.py -> _skbuild/linux-x86_64-3.10/setuptools/lib.linux-x86_64-cpython-310/kvikio\n",
            "copying _skbuild/linux-x86_64-3.10/cmake-install/kvikio/thread_pool.py -> _skbuild/linux-x86_64-3.10/setuptools/lib.linux-x86_64-cpython-310/kvikio\n",
            "copying _skbuild/linux-x86_64-3.10/cmake-install/kvikio/__init__.py -> _skbuild/linux-x86_64-3.10/setuptools/lib.linux-x86_64-cpython-310/kvikio\n",
            "copying _skbuild/linux-x86_64-3.10/cmake-install/kvikio/nvcomp.py -> _skbuild/linux-x86_64-3.10/setuptools/lib.linux-x86_64-cpython-310/kvikio\n",
            "copying _skbuild/linux-x86_64-3.10/cmake-install/kvikio/numpy.py -> _skbuild/linux-x86_64-3.10/setuptools/lib.linux-x86_64-cpython-310/kvikio\n",
            "copying _skbuild/linux-x86_64-3.10/cmake-install/kvikio/cufile.py -> _skbuild/linux-x86_64-3.10/setuptools/lib.linux-x86_64-cpython-310/kvikio\n",
            "copying _skbuild/linux-x86_64-3.10/cmake-install/kvikio/defaults.py -> _skbuild/linux-x86_64-3.10/setuptools/lib.linux-x86_64-cpython-310/kvikio\n",
            "copying _skbuild/linux-x86_64-3.10/cmake-install/kvikio/nvcomp_codec.py -> _skbuild/linux-x86_64-3.10/setuptools/lib.linux-x86_64-cpython-310/kvikio\n",
            "creating _skbuild/linux-x86_64-3.10/setuptools/lib.linux-x86_64-cpython-310/kvikio/_lib\n",
            "copying _skbuild/linux-x86_64-3.10/cmake-install/kvikio/_lib/__init__.py -> _skbuild/linux-x86_64-3.10/setuptools/lib.linux-x86_64-cpython-310/kvikio/_lib\n",
            "running egg_info\n",
            "creating kvikio.egg-info\n",
            "writing kvikio.egg-info/PKG-INFO\n",
            "writing dependency_links to kvikio.egg-info/dependency_links.txt\n",
            "writing entry points to kvikio.egg-info/entry_points.txt\n",
            "writing requirements to kvikio.egg-info/requires.txt\n",
            "writing top-level names to kvikio.egg-info/top_level.txt\n",
            "writing manifest file 'kvikio.egg-info/SOURCES.txt'\n",
            "reading manifest file 'kvikio.egg-info/SOURCES.txt'\n",
            "writing manifest file 'kvikio.egg-info/SOURCES.txt'\n",
            "copying _skbuild/linux-x86_64-3.10/cmake-install/kvikio/_lib/__init__.pxd -> _skbuild/linux-x86_64-3.10/setuptools/lib.linux-x86_64-cpython-310/kvikio/_lib\n",
            "copying _skbuild/linux-x86_64-3.10/cmake-install/kvikio/_lib/arr.cpython-310-x86_64-linux-gnu.so -> _skbuild/linux-x86_64-3.10/setuptools/lib.linux-x86_64-cpython-310/kvikio/_lib\n",
            "copying _skbuild/linux-x86_64-3.10/cmake-install/kvikio/_lib/arr.pxd -> _skbuild/linux-x86_64-3.10/setuptools/lib.linux-x86_64-cpython-310/kvikio/_lib\n",
            "copying _skbuild/linux-x86_64-3.10/cmake-install/kvikio/_lib/arr.pyi -> _skbuild/linux-x86_64-3.10/setuptools/lib.linux-x86_64-cpython-310/kvikio/_lib\n",
            "copying _skbuild/linux-x86_64-3.10/cmake-install/kvikio/_lib/kvikio_cxx_api.pxd -> _skbuild/linux-x86_64-3.10/setuptools/lib.linux-x86_64-cpython-310/kvikio/_lib\n",
            "copying _skbuild/linux-x86_64-3.10/cmake-install/kvikio/_lib/libkvikio.cpython-310-x86_64-linux-gnu.so -> _skbuild/linux-x86_64-3.10/setuptools/lib.linux-x86_64-cpython-310/kvikio/_lib\n",
            "copying _skbuild/linux-x86_64-3.10/cmake-install/kvikio/_lib/libnvcomp.cpython-310-x86_64-linux-gnu.so -> _skbuild/linux-x86_64-3.10/setuptools/lib.linux-x86_64-cpython-310/kvikio/_lib\n",
            "copying _skbuild/linux-x86_64-3.10/cmake-install/kvikio/_lib/libnvcomp_ll.cpython-310-x86_64-linux-gnu.so -> _skbuild/linux-x86_64-3.10/setuptools/lib.linux-x86_64-cpython-310/kvikio/_lib\n",
            "copying _skbuild/linux-x86_64-3.10/cmake-install/kvikio/_lib/nvcomp_cxx_api.pxd -> _skbuild/linux-x86_64-3.10/setuptools/lib.linux-x86_64-cpython-310/kvikio/_lib\n",
            "copying _skbuild/linux-x86_64-3.10/cmake-install/kvikio/_lib/nvcomp_ll_cxx_api.pxd -> _skbuild/linux-x86_64-3.10/setuptools/lib.linux-x86_64-cpython-310/kvikio/_lib\n",
            "copied 9 files\n",
            "running build_ext\n",
            "running install_lib\n",
            "creating /usr/local/lib/python3.10/site-packages/kvikio\n",
            "copying _skbuild/linux-x86_64-3.10/setuptools/lib.linux-x86_64-cpython-310/kvikio/zarr.py -> /usr/local/lib/python3.10/site-packages/kvikio\n",
            "copying _skbuild/linux-x86_64-3.10/setuptools/lib.linux-x86_64-cpython-310/kvikio/thread_pool.py -> /usr/local/lib/python3.10/site-packages/kvikio\n",
            "copying _skbuild/linux-x86_64-3.10/setuptools/lib.linux-x86_64-cpython-310/kvikio/__init__.py -> /usr/local/lib/python3.10/site-packages/kvikio\n",
            "copying _skbuild/linux-x86_64-3.10/setuptools/lib.linux-x86_64-cpython-310/kvikio/nvcomp.py -> /usr/local/lib/python3.10/site-packages/kvikio\n",
            "copying _skbuild/linux-x86_64-3.10/setuptools/lib.linux-x86_64-cpython-310/kvikio/numpy.py -> /usr/local/lib/python3.10/site-packages/kvikio\n",
            "copying _skbuild/linux-x86_64-3.10/setuptools/lib.linux-x86_64-cpython-310/kvikio/cufile.py -> /usr/local/lib/python3.10/site-packages/kvikio\n",
            "copying _skbuild/linux-x86_64-3.10/setuptools/lib.linux-x86_64-cpython-310/kvikio/defaults.py -> /usr/local/lib/python3.10/site-packages/kvikio\n",
            "creating /usr/local/lib/python3.10/site-packages/kvikio/_lib\n",
            "copying _skbuild/linux-x86_64-3.10/setuptools/lib.linux-x86_64-cpython-310/kvikio/_lib/kvikio_cxx_api.pxd -> /usr/local/lib/python3.10/site-packages/kvikio/_lib\n",
            "copying _skbuild/linux-x86_64-3.10/setuptools/lib.linux-x86_64-cpython-310/kvikio/_lib/libkvikio.cpython-310-x86_64-linux-gnu.so -> /usr/local/lib/python3.10/site-packages/kvikio/_lib\n",
            "copying _skbuild/linux-x86_64-3.10/setuptools/lib.linux-x86_64-cpython-310/kvikio/_lib/libnvcomp.cpython-310-x86_64-linux-gnu.so -> /usr/local/lib/python3.10/site-packages/kvikio/_lib\n",
            "copying _skbuild/linux-x86_64-3.10/setuptools/lib.linux-x86_64-cpython-310/kvikio/_lib/arr.pxd -> /usr/local/lib/python3.10/site-packages/kvikio/_lib\n",
            "copying _skbuild/linux-x86_64-3.10/setuptools/lib.linux-x86_64-cpython-310/kvikio/_lib/libnvcomp_ll.cpython-310-x86_64-linux-gnu.so -> /usr/local/lib/python3.10/site-packages/kvikio/_lib\n",
            "copying _skbuild/linux-x86_64-3.10/setuptools/lib.linux-x86_64-cpython-310/kvikio/_lib/__init__.pxd -> /usr/local/lib/python3.10/site-packages/kvikio/_lib\n",
            "copying _skbuild/linux-x86_64-3.10/setuptools/lib.linux-x86_64-cpython-310/kvikio/_lib/__init__.py -> /usr/local/lib/python3.10/site-packages/kvikio/_lib\n",
            "copying _skbuild/linux-x86_64-3.10/setuptools/lib.linux-x86_64-cpython-310/kvikio/_lib/arr.cpython-310-x86_64-linux-gnu.so -> /usr/local/lib/python3.10/site-packages/kvikio/_lib\n",
            "copying _skbuild/linux-x86_64-3.10/setuptools/lib.linux-x86_64-cpython-310/kvikio/_lib/arr.pyi -> /usr/local/lib/python3.10/site-packages/kvikio/_lib\n",
            "copying _skbuild/linux-x86_64-3.10/setuptools/lib.linux-x86_64-cpython-310/kvikio/_lib/nvcomp_ll_cxx_api.pxd -> /usr/local/lib/python3.10/site-packages/kvikio/_lib\n",
            "copying _skbuild/linux-x86_64-3.10/setuptools/lib.linux-x86_64-cpython-310/kvikio/_lib/nvcomp_cxx_api.pxd -> /usr/local/lib/python3.10/site-packages/kvikio/_lib\n",
            "copying _skbuild/linux-x86_64-3.10/setuptools/lib.linux-x86_64-cpython-310/kvikio/nvcomp_codec.py -> /usr/local/lib/python3.10/site-packages/kvikio\n",
            "copied 19 files\n",
            "byte-compiling /usr/local/lib/python3.10/site-packages/kvikio/zarr.py to zarr.cpython-310.pyc\n",
            "byte-compiling /usr/local/lib/python3.10/site-packages/kvikio/thread_pool.py to thread_pool.cpython-310.pyc\n",
            "byte-compiling /usr/local/lib/python3.10/site-packages/kvikio/__init__.py to __init__.cpython-310.pyc\n",
            "byte-compiling /usr/local/lib/python3.10/site-packages/kvikio/nvcomp.py to nvcomp.cpython-310.pyc\n",
            "byte-compiling /usr/local/lib/python3.10/site-packages/kvikio/numpy.py to numpy.cpython-310.pyc\n",
            "byte-compiling /usr/local/lib/python3.10/site-packages/kvikio/cufile.py to cufile.cpython-310.pyc\n",
            "byte-compiling /usr/local/lib/python3.10/site-packages/kvikio/defaults.py to defaults.cpython-310.pyc\n",
            "byte-compiling /usr/local/lib/python3.10/site-packages/kvikio/_lib/__init__.py to __init__.cpython-310.pyc\n",
            "byte-compiling /usr/local/lib/python3.10/site-packages/kvikio/nvcomp_codec.py to nvcomp_codec.cpython-310.pyc\n",
            "running install_data\n",
            "copying _skbuild/linux-x86_64-3.10/cmake-install/include/kvikio/defaults.hpp -> /usr/local/include/kvikio\n",
            "copying _skbuild/linux-x86_64-3.10/cmake-install/include/kvikio/batch.hpp -> /usr/local/include/kvikio\n",
            "copying _skbuild/linux-x86_64-3.10/cmake-install/include/kvikio/parallel_operation.hpp -> /usr/local/include/kvikio\n",
            "copying _skbuild/linux-x86_64-3.10/cmake-install/include/kvikio/version_config.hpp -> /usr/local/include/kvikio\n",
            "copying _skbuild/linux-x86_64-3.10/cmake-install/include/kvikio/driver.hpp -> /usr/local/include/kvikio\n",
            "copying _skbuild/linux-x86_64-3.10/cmake-install/include/kvikio/file_handle.hpp -> /usr/local/include/kvikio\n",
            "copying _skbuild/linux-x86_64-3.10/cmake-install/include/kvikio/utils.hpp -> /usr/local/include/kvikio\n",
            "copying _skbuild/linux-x86_64-3.10/cmake-install/include/kvikio/posix_io.hpp -> /usr/local/include/kvikio\n",
            "copying _skbuild/linux-x86_64-3.10/cmake-install/include/kvikio/error.hpp -> /usr/local/include/kvikio\n",
            "copying _skbuild/linux-x86_64-3.10/cmake-install/include/kvikio/buffer.hpp -> /usr/local/include/kvikio\n",
            "copying _skbuild/linux-x86_64-3.10/cmake-install/include/kvikio/thread_pool.hpp -> /usr/local/include/kvikio\n",
            "copying _skbuild/linux-x86_64-3.10/cmake-install/include/kvikio/shim/cufile_h_wrapper.hpp -> /usr/local/include/kvikio/shim\n",
            "copying _skbuild/linux-x86_64-3.10/cmake-install/include/kvikio/shim/cufile.hpp -> /usr/local/include/kvikio/shim\n",
            "copying _skbuild/linux-x86_64-3.10/cmake-install/include/kvikio/shim/cuda.hpp -> /usr/local/include/kvikio/shim\n",
            "copying _skbuild/linux-x86_64-3.10/cmake-install/include/kvikio/shim/utils.hpp -> /usr/local/include/kvikio/shim\n",
            "copying _skbuild/linux-x86_64-3.10/cmake-install/lib/cmake/kvikio/FindcuFile.cmake -> /usr/local/lib/cmake/kvikio\n",
            "copying _skbuild/linux-x86_64-3.10/cmake-install/lib/cmake/kvikio/kvikio-config.cmake -> /usr/local/lib/cmake/kvikio\n",
            "copying _skbuild/linux-x86_64-3.10/cmake-install/lib/cmake/kvikio/kvikio-dependencies.cmake -> /usr/local/lib/cmake/kvikio\n",
            "copying _skbuild/linux-x86_64-3.10/cmake-install/lib/cmake/kvikio/kvikio-config-version.cmake -> /usr/local/lib/cmake/kvikio\n",
            "copying _skbuild/linux-x86_64-3.10/cmake-install/lib/cmake/kvikio/kvikio-targets.cmake -> /usr/local/lib/cmake/kvikio\n",
            "running install_egg_info\n",
            "Copying kvikio.egg-info to /usr/local/lib/python3.10/site-packages/kvikio-23.8.0-py3.10.egg-info\n",
            "running install_scripts\n",
            "copied 0 files\n",
            "writing list of installed files to 'record.txt'\n"
          ]
        }
      ]
    },
    {
      "cell_type": "code",
      "source": [
        "import kvikio"
      ],
      "metadata": {
        "id": "-Ur9L9B2yner"
      },
      "execution_count": 9,
      "outputs": []
    },
    {
      "cell_type": "code",
      "source": [
        "!cd kvikio/python && pytest tests"
      ],
      "metadata": {
        "colab": {
          "base_uri": "https://localhost:8080/"
        },
        "id": "wXsWzrAdy1Cz",
        "outputId": "7af3c756-8c84-4a96-a726-2fafa7027e9a"
      },
      "execution_count": 10,
      "outputs": [
        {
          "output_type": "stream",
          "name": "stdout",
          "text": [
            "\u001b[1m============================= test session starts ==============================\u001b[0m\n",
            "platform linux -- Python 3.10.12, pytest-7.4.0, pluggy-1.0.0\n",
            "rootdir: /content/kvikio/python\n",
            "plugins: cov-4.1.0\n",
            "collected 843 items                                                            \u001b[0m\n",
            "\n",
            "tests/test_basic_io.py \u001b[32m.\u001b[0m\u001b[32m.\u001b[0m\u001b[32m.\u001b[0m\u001b[32m.\u001b[0m\u001b[32m.\u001b[0m\u001b[32m.\u001b[0m\u001b[32m.\u001b[0m\u001b[32m.\u001b[0m\u001b[32m.\u001b[0m\u001b[32m.\u001b[0m\u001b[32m.\u001b[0m\u001b[32m.\u001b[0m\u001b[32m.\u001b[0m\u001b[32m.\u001b[0m\u001b[32m.\u001b[0m\u001b[32m.\u001b[0m\u001b[32m.\u001b[0m\u001b[32m.\u001b[0m\u001b[32m.\u001b[0m\u001b[32m.\u001b[0m\u001b[32m.\u001b[0m\u001b[32m.\u001b[0m\u001b[32m.\u001b[0m\u001b[32m.\u001b[0m\u001b[32m.\u001b[0m\u001b[32m.\u001b[0m\u001b[32m.\u001b[0m\u001b[32m.\u001b[0m\u001b[32m.\u001b[0m\u001b[32m.\u001b[0m\u001b[32m.\u001b[0m\u001b[32m.\u001b[0m\u001b[32m.\u001b[0m\u001b[32m.\u001b[0m\u001b[32m.\u001b[0m\u001b[32m.\u001b[0m\u001b[32m.\u001b[0m\u001b[32m.\u001b[0m\u001b[32m.\u001b[0m\u001b[32m.\u001b[0m\u001b[32m.\u001b[0m\u001b[32m.\u001b[0m\u001b[32m.\u001b[0m\u001b[32m.\u001b[0m\u001b[32m.\u001b[0m\u001b[32m.\u001b[0m\u001b[32m.\u001b[0m\u001b[32m.\u001b[0m\u001b[32m.\u001b[0m\u001b[32m [  5%]\n",
            "\u001b[0m\u001b[32m.\u001b[0m\u001b[32m.\u001b[0m\u001b[32m.\u001b[0m\u001b[32m.\u001b[0m\u001b[32m.\u001b[0m\u001b[32m.\u001b[0m\u001b[32m.\u001b[0m\u001b[32m.\u001b[0m\u001b[32m.\u001b[0m\u001b[32m.\u001b[0m\u001b[32m.\u001b[0m\u001b[32m.\u001b[0m\u001b[32m.\u001b[0m\u001b[32m.\u001b[0m\u001b[32m.\u001b[0m\u001b[32m.\u001b[0m\u001b[32m.\u001b[0m\u001b[32m.\u001b[0m\u001b[32m.\u001b[0m\u001b[32m.\u001b[0m\u001b[32m.\u001b[0m\u001b[32m.\u001b[0m\u001b[32m.\u001b[0m\u001b[32m.\u001b[0m\u001b[32m.\u001b[0m\u001b[32m.\u001b[0m\u001b[32m.\u001b[0m\u001b[32m.\u001b[0m\u001b[32m.\u001b[0m\u001b[32m.\u001b[0m\u001b[32m.\u001b[0m\u001b[32m.\u001b[0m\u001b[32m.\u001b[0m\u001b[32m.\u001b[0m\u001b[32m.\u001b[0m\u001b[32m.\u001b[0m\u001b[32m.\u001b[0m\u001b[32m.\u001b[0m\u001b[32m.\u001b[0m\u001b[32m.\u001b[0m\u001b[32m.\u001b[0m\u001b[32m.\u001b[0m\u001b[32m.\u001b[0m\u001b[32m.\u001b[0m\u001b[32m.\u001b[0m\u001b[32m.\u001b[0m\u001b[32m.\u001b[0m\u001b[32m.\u001b[0m\u001b[32m.\u001b[0m\u001b[32m.\u001b[0m\u001b[32m.\u001b[0m\u001b[32m.\u001b[0m\u001b[32m.\u001b[0m\u001b[32m.\u001b[0m\u001b[32m.\u001b[0m\u001b[32m.\u001b[0m\u001b[32m.\u001b[0m\u001b[32m.\u001b[0m\u001b[32m.\u001b[0m\u001b[32m.\u001b[0m\u001b[32m.\u001b[0m\u001b[32m.\u001b[0m\u001b[32m.\u001b[0m\u001b[32m.\u001b[0m\u001b[32m.\u001b[0m\u001b[32m.\u001b[0m\u001b[32m.\u001b[0m\u001b[32m.\u001b[0m\u001b[32m.\u001b[0m\u001b[32m.\u001b[0m\u001b[32m.\u001b[0m\u001b[32m.\u001b[0m\u001b[32m [ 14%]\n",
            "\u001b[0m\u001b[32m.\u001b[0m\u001b[32m.\u001b[0m\u001b[32m.\u001b[0m\u001b[32m.\u001b[0m\u001b[32m.\u001b[0m\u001b[32m.\u001b[0m\u001b[32m.\u001b[0m\u001b[32m.\u001b[0m\u001b[32m.\u001b[0m\u001b[32m.\u001b[0m\u001b[32m.\u001b[0m\u001b[32m.\u001b[0m\u001b[32m.\u001b[0m\u001b[32m.\u001b[0m\u001b[32m.\u001b[0m\u001b[32m.\u001b[0m\u001b[32m.\u001b[0m\u001b[32m.\u001b[0m\u001b[32m.\u001b[0m\u001b[32m.\u001b[0m\u001b[32m.\u001b[0m\u001b[32m.\u001b[0m\u001b[32m.\u001b[0m\u001b[32m.\u001b[0m\u001b[32m.\u001b[0m\u001b[32m.\u001b[0m\u001b[32m.\u001b[0m\u001b[32m.\u001b[0m\u001b[32m.\u001b[0m\u001b[32m.\u001b[0m\u001b[32m.\u001b[0m\u001b[32m.\u001b[0m\u001b[32m.\u001b[0m\u001b[32m.\u001b[0m\u001b[32m.\u001b[0m\u001b[32m.\u001b[0m\u001b[32m.\u001b[0m\u001b[32m.\u001b[0m\u001b[32m.\u001b[0m\u001b[32m.\u001b[0m\u001b[32m.\u001b[0m\u001b[32m.\u001b[0m\u001b[32m.\u001b[0m\u001b[32m.\u001b[0m\u001b[32m.\u001b[0m\u001b[32m.\u001b[0m\u001b[32m.\u001b[0m\u001b[32m.\u001b[0m\u001b[32m.\u001b[0m\u001b[32m.\u001b[0m\u001b[32m.\u001b[0m\u001b[32m.\u001b[0m\u001b[32m.\u001b[0m\u001b[32m.\u001b[0m\u001b[32m.\u001b[0m\u001b[32m.\u001b[0m\u001b[32m.\u001b[0m\u001b[32m.\u001b[0m\u001b[32m.\u001b[0m\u001b[32m.\u001b[0m\u001b[32m.\u001b[0m\u001b[32m.\u001b[0m\u001b[32m.\u001b[0m\u001b[32m.\u001b[0m\u001b[32m.\u001b[0m\u001b[32m.\u001b[0m\u001b[32m.\u001b[0m\u001b[32m.\u001b[0m\u001b[32m.\u001b[0m\u001b[32m.\u001b[0m\u001b[32m.\u001b[0m\u001b[32m.\u001b[0m\u001b[32m [ 22%]\n",
            "\u001b[0m\u001b[32m.\u001b[0m\u001b[32m.\u001b[0m\u001b[32m.\u001b[0m\u001b[32m.\u001b[0m\u001b[32m.\u001b[0m\u001b[32m.\u001b[0m\u001b[32m.\u001b[0m\u001b[32m.\u001b[0m\u001b[32m.\u001b[0m\u001b[32m.\u001b[0m\u001b[32m.\u001b[0m\u001b[32m.\u001b[0m\u001b[32m.\u001b[0m\u001b[32m.\u001b[0m\u001b[32m.\u001b[0m\u001b[32m.\u001b[0m\u001b[32m.\u001b[0m\u001b[32m.\u001b[0m\u001b[32m.\u001b[0m\u001b[32m.\u001b[0m\u001b[32m.\u001b[0m\u001b[32m.\u001b[0m\u001b[32m.\u001b[0m\u001b[32m.\u001b[0m\u001b[32m.\u001b[0m\u001b[32m.\u001b[0m\u001b[32m.\u001b[0m\u001b[32m.\u001b[0m\u001b[32m.\u001b[0m\u001b[32m.\u001b[0m\u001b[32m.\u001b[0m\u001b[32m.\u001b[0m\u001b[32m.\u001b[0m\u001b[32m.\u001b[0m\u001b[32m.\u001b[0m\u001b[32m.\u001b[0m\u001b[32m.\u001b[0m\u001b[32m.\u001b[0m\u001b[32m.\u001b[0m\u001b[32m.\u001b[0m\u001b[32m.\u001b[0m\u001b[32m.\u001b[0m\u001b[32m.\u001b[0m\u001b[32m.\u001b[0m\u001b[32m.\u001b[0m\u001b[32m.\u001b[0m\u001b[32m.\u001b[0m\u001b[32m.\u001b[0m\u001b[32m.\u001b[0m\u001b[32m.\u001b[0m\u001b[32m.\u001b[0m\u001b[32m.\u001b[0m\u001b[32m.\u001b[0m\u001b[32m.\u001b[0m\u001b[32m.\u001b[0m\u001b[32m.\u001b[0m\u001b[32m.\u001b[0m\u001b[32m.\u001b[0m\u001b[32m.\u001b[0m\u001b[32m.\u001b[0m\u001b[32m.\u001b[0m\u001b[32m.\u001b[0m\u001b[32m.\u001b[0m\u001b[32m.\u001b[0m\u001b[32m.\u001b[0m\u001b[32m.\u001b[0m\u001b[32m.\u001b[0m\u001b[32m.\u001b[0m\u001b[32m.\u001b[0m\u001b[32m.\u001b[0m\u001b[32m.\u001b[0m\u001b[32m.\u001b[0m\u001b[32m [ 31%]\n",
            "\u001b[0m\u001b[32m.\u001b[0m\u001b[32m.\u001b[0m\u001b[32m.\u001b[0m\u001b[32m.\u001b[0m\u001b[32m.\u001b[0m\u001b[32m.\u001b[0m\u001b[32m.\u001b[0m\u001b[32m.\u001b[0m\u001b[32m.\u001b[0m\u001b[32m.\u001b[0m\u001b[32m.\u001b[0m\u001b[32m.\u001b[0m\u001b[32m.\u001b[0m\u001b[32m.\u001b[0m\u001b[32m.\u001b[0m\u001b[32m.\u001b[0m\u001b[32m.\u001b[0m\u001b[32m.\u001b[0m\u001b[32m.\u001b[0m\u001b[32m.\u001b[0m\u001b[32m.\u001b[0m\u001b[32m.\u001b[0m\u001b[32m.\u001b[0m\u001b[32m.\u001b[0m\u001b[32m.\u001b[0m\u001b[32m.\u001b[0m\u001b[32m.\u001b[0m\u001b[32m.\u001b[0m\u001b[32m.\u001b[0m\u001b[32m.\u001b[0m\u001b[32m.\u001b[0m\u001b[32m.\u001b[0m\u001b[32m.\u001b[0m\u001b[32m.\u001b[0m\u001b[32m.\u001b[0m\u001b[32m.\u001b[0m\u001b[32m.\u001b[0m\u001b[32m.\u001b[0m\u001b[32m.\u001b[0m\u001b[32m.\u001b[0m\u001b[32m.\u001b[0m\u001b[32m.\u001b[0m\u001b[32m.\u001b[0m\u001b[32m.\u001b[0m\u001b[32m.\u001b[0m\u001b[32m.\u001b[0m\u001b[32m.\u001b[0m\u001b[32m.\u001b[0m\u001b[32m.\u001b[0m\u001b[32m.\u001b[0m\u001b[32m.\u001b[0m\u001b[32m.\u001b[0m\u001b[32m.\u001b[0m\u001b[32m.\u001b[0m\u001b[32m.\u001b[0m\u001b[32m.\u001b[0m\u001b[32m.\u001b[0m\u001b[32m.\u001b[0m\u001b[32m.\u001b[0m\u001b[32m.\u001b[0m\u001b[32m.\u001b[0m\u001b[32m.\u001b[0m\u001b[32m.\u001b[0m\u001b[32m.\u001b[0m\u001b[32m.\u001b[0m\u001b[32m.\u001b[0m\u001b[32m.\u001b[0m\u001b[32m.\u001b[0m\u001b[32m.\u001b[0m\u001b[32m.\u001b[0m\u001b[32m.\u001b[0m\u001b[32m.\u001b[0m\u001b[32m [ 39%]\n",
            "\u001b[0m\u001b[33ms\u001b[0m\u001b[32m.\u001b[0m\u001b[32m.\u001b[0m\u001b[32m.\u001b[0m\u001b[32m.\u001b[0m\u001b[32m.\u001b[0m\u001b[32m.\u001b[0m\u001b[32m.\u001b[0m\u001b[32m.\u001b[0m\u001b[32m.\u001b[0m\u001b[32m.\u001b[0m\u001b[32m.\u001b[0m\u001b[32m.\u001b[0m\u001b[32m.\u001b[0m\u001b[32m.\u001b[0m\u001b[32m.\u001b[0m\u001b[32m.\u001b[0m\u001b[32m.\u001b[0m\u001b[32m.\u001b[0m\u001b[32m.\u001b[0m\u001b[32m.\u001b[0m\u001b[32m.\u001b[0m\u001b[32m.\u001b[0m\u001b[32m.\u001b[0m\u001b[32m.\u001b[0m\u001b[32m.\u001b[0m\u001b[32m.\u001b[0m\u001b[32m.\u001b[0m\u001b[32m.\u001b[0m\u001b[32m.\u001b[0m\u001b[32m.\u001b[0m\u001b[32m.\u001b[0m\u001b[32m.\u001b[0m\u001b[32m.\u001b[0m\u001b[32m.\u001b[0m\u001b[32m.\u001b[0m\u001b[32m.\u001b[0m\u001b[32m.\u001b[0m\u001b[32m.\u001b[0m\u001b[32m.\u001b[0m\u001b[32m.\u001b[0m\u001b[32m.\u001b[0m\u001b[32m.\u001b[0m\u001b[32m.\u001b[0m\u001b[32m.\u001b[0m\u001b[32m.\u001b[0m\u001b[32m.\u001b[0m\u001b[32m.\u001b[0m\u001b[32m.\u001b[0m\u001b[32m.\u001b[0m\u001b[32m.\u001b[0m\u001b[32m.\u001b[0m\u001b[32m.\u001b[0m\u001b[32m.\u001b[0m\u001b[32m.\u001b[0m\u001b[32m.\u001b[0m\u001b[32m.\u001b[0m\u001b[32m.\u001b[0m\u001b[32m.\u001b[0m\u001b[32m.\u001b[0m\u001b[32m.\u001b[0m\u001b[32m.\u001b[0m\u001b[32m.\u001b[0m\u001b[32m.\u001b[0m\u001b[32m.\u001b[0m\u001b[32m.\u001b[0m\u001b[32m.\u001b[0m\u001b[32m.\u001b[0m\u001b[32m.\u001b[0m\u001b[32m.\u001b[0m\u001b[32m.\u001b[0m\u001b[32m.\u001b[0m\u001b[32m [ 48%]\n",
            "\u001b[0m\u001b[32m.\u001b[0m\u001b[32m.\u001b[0m\u001b[32m.\u001b[0m\u001b[32m.\u001b[0m\u001b[32m.\u001b[0m\u001b[32m.\u001b[0m\u001b[32m.\u001b[0m\u001b[32m.\u001b[0m\u001b[32m.\u001b[0m\u001b[32m.\u001b[0m\u001b[32m.\u001b[0m\u001b[32m.\u001b[0m\u001b[32m.\u001b[0m\u001b[32m.\u001b[0m\u001b[32m.\u001b[0m\u001b[32m.\u001b[0m\u001b[32m.\u001b[0m\u001b[32m.\u001b[0m\u001b[32m.\u001b[0m\u001b[32m.\u001b[0m\u001b[32m.\u001b[0m\u001b[32m.\u001b[0m\u001b[32m.\u001b[0m\u001b[32m.\u001b[0m\u001b[32m.\u001b[0m\u001b[32m.\u001b[0m\u001b[32m.\u001b[0m\u001b[32m.\u001b[0m\u001b[32m.\u001b[0m\u001b[32m.\u001b[0m\u001b[32m.\u001b[0m\u001b[32m.\u001b[0m\u001b[32m.\u001b[0m\u001b[32m.\u001b[0m\u001b[32m.\u001b[0m\u001b[32m.\u001b[0m\u001b[32m.\u001b[0m\u001b[32m.\u001b[0m\u001b[32m.\u001b[0m\u001b[32m.\u001b[0m\u001b[32m.\u001b[0m\u001b[32m.\u001b[0m\u001b[32m.\u001b[0m\u001b[32m.\u001b[0m\u001b[32m.\u001b[0m\u001b[32m.\u001b[0m\u001b[32m.\u001b[0m\u001b[32m.\u001b[0m\u001b[32m.\u001b[0m\u001b[32m.\u001b[0m\u001b[32m.\u001b[0m\u001b[32m.\u001b[0m\u001b[32m.\u001b[0m\u001b[32m.\u001b[0m\u001b[32m.\u001b[0m\u001b[32m.\u001b[0m\u001b[32m.\u001b[0m\u001b[32m.\u001b[0m\u001b[32m.\u001b[0m\u001b[32m.\u001b[0m\u001b[32m.\u001b[0m\u001b[32m.\u001b[0m\u001b[32m.\u001b[0m\u001b[32m.\u001b[0m\u001b[32m.\u001b[0m\u001b[32m.\u001b[0m\u001b[32m.\u001b[0m\u001b[32m.\u001b[0m\u001b[32m.\u001b[0m\u001b[32m.\u001b[0m\u001b[32m.\u001b[0m\u001b[32m.\u001b[0m\u001b[32m [ 57%]\n",
            "\u001b[0m\u001b[32m.\u001b[0m\u001b[32m.\u001b[0m\u001b[32m.\u001b[0m\u001b[32m.\u001b[0m\u001b[32m.\u001b[0m\u001b[32m.\u001b[0m\u001b[32m.\u001b[0m\u001b[32m.\u001b[0m\u001b[32m.\u001b[0m\u001b[32m.\u001b[0m\u001b[32m.\u001b[0m\u001b[32m.\u001b[0m\u001b[32m.\u001b[0m\u001b[32m.\u001b[0m\u001b[32m.\u001b[0m\u001b[32m.\u001b[0m\u001b[32m.\u001b[0m\u001b[32m.\u001b[0m\u001b[32m.\u001b[0m\u001b[32m.\u001b[0m\u001b[32m.\u001b[0m\u001b[32m.\u001b[0m\u001b[32m.\u001b[0m\u001b[32m.\u001b[0m\u001b[32m.\u001b[0m\u001b[32m.\u001b[0m\u001b[32m.\u001b[0m\u001b[32m.\u001b[0m\u001b[32m.\u001b[0m\u001b[32m.\u001b[0m\u001b[32m.\u001b[0m\u001b[32m.\u001b[0m\u001b[32m.\u001b[0m\u001b[32m.\u001b[0m\u001b[32m.\u001b[0m\u001b[32m.\u001b[0m\u001b[32m.\u001b[0m\u001b[32m.\u001b[0m\u001b[32m.\u001b[0m\u001b[32m.\u001b[0m\u001b[32m.\u001b[0m\u001b[32m.\u001b[0m\u001b[32m.\u001b[0m\u001b[32m.\u001b[0m\u001b[32m.\u001b[0m\u001b[32m.\u001b[0m\u001b[32m.\u001b[0m\u001b[32m.\u001b[0m\u001b[32m.\u001b[0m\u001b[32m.\u001b[0m\u001b[32m.\u001b[0m\u001b[32m.\u001b[0m\u001b[32m.\u001b[0m\u001b[32m.\u001b[0m\u001b[32m.\u001b[0m\u001b[32m.\u001b[0m\u001b[32m.\u001b[0m\u001b[32m.\u001b[0m\u001b[32m.\u001b[0m\u001b[32m.\u001b[0m\u001b[32m.\u001b[0m\u001b[32m.\u001b[0m\u001b[32m.\u001b[0m\u001b[32m.\u001b[0m\u001b[32m.\u001b[0m\u001b[32m.\u001b[0m\u001b[32m.\u001b[0m\u001b[32m.\u001b[0m\u001b[32m.\u001b[0m\u001b[32m.\u001b[0m\u001b[32m.\u001b[0m\u001b[32m.\u001b[0m\u001b[32m [ 65%]\n",
            "\u001b[0m\u001b[32m.\u001b[0m\u001b[32m.\u001b[0m\u001b[32m.\u001b[0m\u001b[32m.\u001b[0m\u001b[32m.\u001b[0m\u001b[32m.\u001b[0m\u001b[32m.\u001b[0m\u001b[32m.\u001b[0m\u001b[32m.\u001b[0m\u001b[32m.\u001b[0m\u001b[32m.\u001b[0m\u001b[32m.\u001b[0m\u001b[32m.\u001b[0m\u001b[32m.\u001b[0m\u001b[32m.\u001b[0m\u001b[32m.\u001b[0m\u001b[32m.\u001b[0m\u001b[32m.\u001b[0m\u001b[32m.\u001b[0m\u001b[32m.\u001b[0m\u001b[32m.\u001b[0m\u001b[33ms\u001b[0m\u001b[33ms\u001b[0m\u001b[33ms\u001b[0m\u001b[33ms\u001b[0m\u001b[33ms\u001b[0m\u001b[33ms\u001b[0m\u001b[32m                                              [ 68%]\u001b[0m\n",
            "tests/test_benchmarks.py \u001b[32m.\u001b[0m\u001b[32m.\u001b[0m\u001b[32m.\u001b[0m\u001b[32m.\u001b[0m\u001b[32m.\u001b[0m\u001b[32m.\u001b[0m\u001b[32m                                          [ 69%]\u001b[0m\n",
            "tests/test_defaults.py \u001b[33ms\u001b[0m\u001b[32m.\u001b[0m\u001b[32m.\u001b[0m\u001b[32m                                               [ 69%]\u001b[0m\n",
            "tests/test_examples.py \u001b[32m.\u001b[0m\u001b[32m                                                 [ 69%]\u001b[0m\n",
            "tests/test_numpy.py \u001b[32m.\u001b[0m\u001b[32m.\u001b[0m\u001b[32m.\u001b[0m\u001b[32m.\u001b[0m\u001b[32m.\u001b[0m\u001b[32m.\u001b[0m\u001b[32m.\u001b[0m\u001b[32m.\u001b[0m\u001b[32m.\u001b[0m\u001b[32m.\u001b[0m\u001b[32m.\u001b[0m\u001b[32m.\u001b[0m\u001b[32m.\u001b[0m\u001b[32m.\u001b[0m\u001b[32m.\u001b[0m\u001b[32m.\u001b[0m\u001b[32m.\u001b[0m\u001b[32m.\u001b[0m\u001b[32m.\u001b[0m\u001b[32m.\u001b[0m\u001b[32m.\u001b[0m\u001b[32m.\u001b[0m\u001b[32m.\u001b[0m\u001b[32m.\u001b[0m\u001b[32m.\u001b[0m\u001b[32m.\u001b[0m\u001b[32m.\u001b[0m\u001b[32m                          [ 73%]\u001b[0m\n",
            "tests/test_nvcomp.py \u001b[32m.\u001b[0m\u001b[32m.\u001b[0m\u001b[32m.\u001b[0m\u001b[32m.\u001b[0m\u001b[32m.\u001b[0m\u001b[32m.\u001b[0m\u001b[32m.\u001b[0m\u001b[32m.\u001b[0m\u001b[32m.\u001b[0m\u001b[32m.\u001b[0m\u001b[32m.\u001b[0m\u001b[32m.\u001b[0m\u001b[32m.\u001b[0m\u001b[32m.\u001b[0m\u001b[32m.\u001b[0m\u001b[32m.\u001b[0m\u001b[32m.\u001b[0m\u001b[32m.\u001b[0m\u001b[32m.\u001b[0m\u001b[32m.\u001b[0m\u001b[32m.\u001b[0m\u001b[32m.\u001b[0m\u001b[32m.\u001b[0m\u001b[32m.\u001b[0m\u001b[32m.\u001b[0m\u001b[32m.\u001b[0m\u001b[32m.\u001b[0m\u001b[32m.\u001b[0m\u001b[32m.\u001b[0m\u001b[33mx\u001b[0m\u001b[33mx\u001b[0m\u001b[32m.\u001b[0m\u001b[32m.\u001b[0m\u001b[32m.\u001b[0m\u001b[32m.\u001b[0m\u001b[32m.\u001b[0m\u001b[32m.\u001b[0m\u001b[32m.\u001b[0m\u001b[32m.\u001b[0m\u001b[32m.\u001b[0m\u001b[32m.\u001b[0m\u001b[32m.\u001b[0m\u001b[32m.\u001b[0m\u001b[32m.\u001b[0m\u001b[32m.\u001b[0m\u001b[32m.\u001b[0m\u001b[32m.\u001b[0m\u001b[32m.\u001b[0m\u001b[32m.\u001b[0m\u001b[32m.\u001b[0m\u001b[32m.\u001b[0m\u001b[32m [ 79%]\n",
            "\u001b[0m\u001b[32m.\u001b[0m\u001b[32m.\u001b[0m\u001b[33ms\u001b[0m\u001b[32m.\u001b[0m\u001b[32m.\u001b[0m\u001b[32m.\u001b[0m\u001b[32m.\u001b[0m\u001b[32m.\u001b[0m\u001b[32m.\u001b[0m\u001b[33mx\u001b[0m\u001b[33mx\u001b[0m\u001b[33mx\u001b[0m\u001b[33mx\u001b[0m\u001b[32m.\u001b[0m\u001b[32m.\u001b[0m\u001b[32m.\u001b[0m\u001b[32m.\u001b[0m\u001b[32m.\u001b[0m\u001b[32m.\u001b[0m\u001b[32m.\u001b[0m\u001b[32m.\u001b[0m\u001b[32m.\u001b[0m\u001b[32m.\u001b[0m\u001b[32m.\u001b[0m\u001b[32m.\u001b[0m\u001b[32m                                                [ 82%]\u001b[0m\n",
            "tests/test_nvcomp_codec.py \u001b[32m.\u001b[0m\u001b[32m.\u001b[0m\u001b[32m.\u001b[0m\u001b[32m.\u001b[0m\u001b[32m.\u001b[0m\u001b[32m.\u001b[0m\u001b[32m.\u001b[0m\u001b[32m.\u001b[0m\u001b[32m.\u001b[0m\u001b[32m.\u001b[0m\u001b[32m.\u001b[0m\u001b[32m.\u001b[0m\u001b[32m.\u001b[0m\u001b[32m.\u001b[0m\u001b[32m.\u001b[0m\u001b[32m.\u001b[0m\u001b[32m.\u001b[0m\u001b[32m.\u001b[0m\u001b[32m.\u001b[0m\u001b[32m.\u001b[0m\u001b[32m.\u001b[0m\u001b[32m.\u001b[0m\u001b[32m.\u001b[0m\u001b[32m.\u001b[0m\u001b[32m.\u001b[0m\u001b[32m.\u001b[0m\u001b[32m.\u001b[0m\u001b[32m.\u001b[0m\u001b[32m.\u001b[0m\u001b[32m.\u001b[0m\u001b[32m.\u001b[0m\u001b[32m.\u001b[0m\u001b[32m.\u001b[0m\u001b[32m.\u001b[0m\u001b[32m.\u001b[0m\u001b[32m.\u001b[0m\u001b[32m.\u001b[0m\u001b[32m.\u001b[0m\u001b[32m.\u001b[0m\u001b[32m.\u001b[0m\u001b[32m.\u001b[0m\u001b[32m.\u001b[0m\u001b[32m.\u001b[0m\u001b[32m.\u001b[0m\u001b[32m.\u001b[0m\u001b[32m [ 87%]\n",
            "\u001b[0m\u001b[32m.\u001b[0m\u001b[32m.\u001b[0m\u001b[32m.\u001b[0m\u001b[32m.\u001b[0m\u001b[32m.\u001b[0m\u001b[32m.\u001b[0m\u001b[32m.\u001b[0m\u001b[32m.\u001b[0m\u001b[32m.\u001b[0m\u001b[32m.\u001b[0m\u001b[32m.\u001b[0m\u001b[32m.\u001b[0m\u001b[32m.\u001b[0m\u001b[32m.\u001b[0m\u001b[32m.\u001b[0m\u001b[32m.\u001b[0m\u001b[32m.\u001b[0m\u001b[32m.\u001b[0m\u001b[32m.\u001b[0m\u001b[32m.\u001b[0m\u001b[32m.\u001b[0m\u001b[32m.\u001b[0m\u001b[32m.\u001b[0m\u001b[32m.\u001b[0m\u001b[32m.\u001b[0m\u001b[32m.\u001b[0m\u001b[32m.\u001b[0m\u001b[32m.\u001b[0m\u001b[32m.\u001b[0m\u001b[32m.\u001b[0m\u001b[32m.\u001b[0m\u001b[32m.\u001b[0m\u001b[32m.\u001b[0m\u001b[32m.\u001b[0m\u001b[32m.\u001b[0m\u001b[32m.\u001b[0m\u001b[32m.\u001b[0m\u001b[32m.\u001b[0m\u001b[32m.\u001b[0m\u001b[32m.\u001b[0m\u001b[32m.\u001b[0m\u001b[32m.\u001b[0m\u001b[32m.\u001b[0m\u001b[32m.\u001b[0m\u001b[32m.\u001b[0m\u001b[32m.\u001b[0m\u001b[32m.\u001b[0m\u001b[32m.\u001b[0m\u001b[32m.\u001b[0m\u001b[32m.\u001b[0m\u001b[32m.\u001b[0m\u001b[32m.\u001b[0m\u001b[32m                     [ 93%]\u001b[0m\n",
            "tests/test_zarr.py \u001b[32m.\u001b[0m\u001b[32m.\u001b[0m\u001b[32m.\u001b[0m\u001b[32m.\u001b[0m\u001b[32m.\u001b[0m\u001b[32m.\u001b[0m\u001b[32m.\u001b[0m\u001b[32m.\u001b[0m\u001b[32m.\u001b[0m\u001b[32m.\u001b[0m\u001b[32m.\u001b[0m\u001b[32m.\u001b[0m\u001b[32m.\u001b[0m\u001b[32m.\u001b[0m\u001b[32m.\u001b[0m\u001b[32m.\u001b[0m\u001b[32m.\u001b[0m\u001b[32m.\u001b[0m\u001b[32m.\u001b[0m\u001b[32m.\u001b[0m\u001b[32m.\u001b[0m\u001b[32m.\u001b[0m\u001b[32m.\u001b[0m\u001b[32m.\u001b[0m\u001b[32m.\u001b[0m\u001b[32m.\u001b[0m\u001b[32m.\u001b[0m\u001b[32m.\u001b[0m\u001b[32m.\u001b[0m\u001b[32m.\u001b[0m\u001b[32m.\u001b[0m\u001b[32m.\u001b[0m\u001b[32m.\u001b[0m\u001b[32m.\u001b[0m\u001b[32m.\u001b[0m\u001b[32m.\u001b[0m\u001b[32m.\u001b[0m\u001b[32m.\u001b[0m\u001b[32m.\u001b[0m\u001b[32m.\u001b[0m\u001b[32m.\u001b[0m\u001b[32m.\u001b[0m\u001b[32m.\u001b[0m\u001b[32m.\u001b[0m\u001b[32m.\u001b[0m\u001b[32m.\u001b[0m\u001b[32m.\u001b[0m\u001b[32m.\u001b[0m\u001b[32m.\u001b[0m\u001b[32m.\u001b[0m\u001b[32m.\u001b[0m\u001b[32m.\u001b[0m\u001b[32m.\u001b[0m\u001b[32m [100%]\u001b[0m\n",
            "\n",
            "\u001b[32m============ \u001b[32m\u001b[1m828 passed\u001b[0m, \u001b[33m9 skipped\u001b[0m, \u001b[33m6 xfailed\u001b[0m\u001b[32m in 227.14s (0:03:47)\u001b[0m\u001b[32m =============\u001b[0m\n"
          ]
        }
      ]
    },
    {
      "cell_type": "code",
      "source": [],
      "metadata": {
        "id": "XbMx7unj2vT1"
      },
      "execution_count": null,
      "outputs": []
    }
  ]
}